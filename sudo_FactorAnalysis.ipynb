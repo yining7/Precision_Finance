{
 "cells": [
  {
   "cell_type": "markdown",
   "metadata": {},
   "source": [
    "## Factor Analysis"
   ]
  },
  {
   "cell_type": "code",
   "execution_count": 1,
   "metadata": {},
   "outputs": [],
   "source": [
    "# !pip install factor_analyzer\n",
    "import pandas as pd\n",
    "import numpy as np\n",
    "\n",
    "import matplotlib.pyplot as plt    \n",
    "import seaborn as sns\n",
    "\n",
    "from sklearn.decomposition import PCA\n",
    "from sklearn import preprocessing\n",
    "\n",
    "import factor_analyzer\n",
    "from factor_analyzer import FactorAnalyzer\n",
    "from factor_analyzer.factor_analyzer import calculate_bartlett_sphericity, calculate_kmo\n",
    "\n",
    "import statsmodels.api as sm\n",
    "\n",
    "import warnings\n",
    "warnings.filterwarnings('ignore')"
   ]
  },
  {
   "cell_type": "code",
   "execution_count": 2,
   "metadata": {},
   "outputs": [],
   "source": [
    "df=pd.read_csv('5_FactorAna.csv')"
   ]
  },
  {
   "cell_type": "code",
   "execution_count": 3,
   "metadata": {},
   "outputs": [
    {
     "data": {
      "text/plain": [
       "Index(['Unnamed: 0', 'name', 'city', 'latitude', 'longitude', 'price_level',\n",
       "       'rating', 'review_count', 'delivery', 'pickup', 'reservation', 'alias',\n",
       "       'categories', 'coordinates', 'display_phone', 'distance', 'id',\n",
       "       'image_url', 'is_closed', 'location', 'phone', 'price', 'transactions',\n",
       "       'url', 'reviews', 'vader', 'vader_positive', 'vader_negative',\n",
       "       'compound', 'neutral', 'vader_pos_neg', 'NRC', 'NRC_positive',\n",
       "       'NRC_surprise', 'NRC_anticipation', 'NRC_sadness', 'NRC_negative',\n",
       "       'NRC_trust', 'NRC_anger', 'NRC_joy', 'NRC_disgust', 'NRC_fear',\n",
       "       'NRC_pos_neg', 'is_Michelin', 'sims_score', 'Mi_nomi_score',\n",
       "       'Mi_nomi_score_scale', 'star', 'category', 'French',\n",
       "       'American (Traditional)', 'Korean', 'Italian', 'Thai', 'American (New)',\n",
       "       'Chinese', 'Japanese', 'Mediterranean', 'Spanish', 'Mexican', 'Indian',\n",
       "       'British', 'Seafood', 'Wine Bars', 'Steakhouses', 'Dim Sum', 'City',\n",
       "       'New York', 'Chicago', 'Washington', 'San Francisco', 'price1',\n",
       "       'price2', 'price3', 'price4'],\n",
       "      dtype='object')"
      ]
     },
     "execution_count": 3,
     "metadata": {},
     "output_type": "execute_result"
    }
   ],
   "source": [
    "df.columns"
   ]
  },
  {
   "cell_type": "code",
   "execution_count": 200,
   "metadata": {},
   "outputs": [],
   "source": [
    "df_fa = df[['NRC_positive','compound', 'neutral', 'NRC_negative','rating', 'review_count',\n",
    "            'price1', 'price2', 'price3', 'price4','delivery', 'pickup', 'reservation']]  # 18\n",
    "df_fa = pd.DataFrame(preprocessing.scale(df_fa),columns=df_fa.columns)"
   ]
  },
  {
   "cell_type": "code",
   "execution_count": 201,
   "metadata": {},
   "outputs": [
    {
     "data": {
      "text/html": [
       "<div>\n",
       "<style scoped>\n",
       "    .dataframe tbody tr th:only-of-type {\n",
       "        vertical-align: middle;\n",
       "    }\n",
       "\n",
       "    .dataframe tbody tr th {\n",
       "        vertical-align: top;\n",
       "    }\n",
       "\n",
       "    .dataframe thead th {\n",
       "        text-align: right;\n",
       "    }\n",
       "</style>\n",
       "<table border=\"1\" class=\"dataframe\">\n",
       "  <thead>\n",
       "    <tr style=\"text-align: right;\">\n",
       "      <th></th>\n",
       "      <th>variance</th>\n",
       "      <th>proportion_var_explain</th>\n",
       "      <th>cumulative_var_explain</th>\n",
       "    </tr>\n",
       "  </thead>\n",
       "  <tbody>\n",
       "    <tr>\n",
       "      <th>0</th>\n",
       "      <td>2.334273</td>\n",
       "      <td>0.179559</td>\n",
       "      <td>0.179559</td>\n",
       "    </tr>\n",
       "    <tr>\n",
       "      <th>1</th>\n",
       "      <td>1.850096</td>\n",
       "      <td>0.142315</td>\n",
       "      <td>0.321875</td>\n",
       "    </tr>\n",
       "    <tr>\n",
       "      <th>2</th>\n",
       "      <td>1.625360</td>\n",
       "      <td>0.125028</td>\n",
       "      <td>0.446902</td>\n",
       "    </tr>\n",
       "    <tr>\n",
       "      <th>3</th>\n",
       "      <td>1.329798</td>\n",
       "      <td>0.102292</td>\n",
       "      <td>0.549194</td>\n",
       "    </tr>\n",
       "    <tr>\n",
       "      <th>4</th>\n",
       "      <td>1.303388</td>\n",
       "      <td>0.100261</td>\n",
       "      <td>0.649455</td>\n",
       "    </tr>\n",
       "    <tr>\n",
       "      <th>5</th>\n",
       "      <td>1.132602</td>\n",
       "      <td>0.087123</td>\n",
       "      <td>0.736578</td>\n",
       "    </tr>\n",
       "    <tr>\n",
       "      <th>6</th>\n",
       "      <td>1.019008</td>\n",
       "      <td>0.078385</td>\n",
       "      <td>0.814963</td>\n",
       "    </tr>\n",
       "    <tr>\n",
       "      <th>7</th>\n",
       "      <td>1.001691</td>\n",
       "      <td>0.077053</td>\n",
       "      <td>0.892017</td>\n",
       "    </tr>\n",
       "  </tbody>\n",
       "</table>\n",
       "</div>"
      ],
      "text/plain": [
       "   variance  proportion_var_explain  cumulative_var_explain\n",
       "0  2.334273                0.179559                0.179559\n",
       "1  1.850096                0.142315                0.321875\n",
       "2  1.625360                0.125028                0.446902\n",
       "3  1.329798                0.102292                0.549194\n",
       "4  1.303388                0.100261                0.649455\n",
       "5  1.132602                0.087123                0.736578\n",
       "6  1.019008                0.078385                0.814963\n",
       "7  1.001691                0.077053                0.892017"
      ]
     },
     "execution_count": 201,
     "metadata": {},
     "output_type": "execute_result"
    }
   ],
   "source": [
    "fac_num=8\n",
    "fa = FactorAnalyzer(n_factors=fac_num,rotation='varimax',method='principal', impute='drop' )  #n_factors=10,\n",
    "fa.fit(df_fa)\n",
    "\n",
    "fa.get_communalities()  #\n",
    "\n",
    "total_var = pd.DataFrame(np.matrix(fa.get_factor_variance()).T,columns=['variance','proportion_var_explain','cumulative_var_explain'])\n",
    "total_var\n",
    "# variance – The factor variances.\n",
    "# proportional_variance – The proportional factor variances.\n",
    "# cumulative_variances "
   ]
  },
  {
   "cell_type": "code",
   "execution_count": 202,
   "metadata": {},
   "outputs": [
    {
     "data": {
      "text/plain": [
       "0.32463313643749714"
      ]
     },
     "execution_count": 202,
     "metadata": {},
     "output_type": "execute_result"
    }
   ],
   "source": [
    "chi_square_value,p_value=calculate_bartlett_sphericity(df_fa.dropna())\n",
    "kmo = calculate_kmo(df_fa.dropna())\n",
    "chi_square_value, p_value\n",
    "kmo[1]\n",
    "# Represents the degree to which each observed variable is predicted by the other variables in the dataset.\n",
    "# In general, a KMO > 0.6 is considered adequate."
   ]
  },
  {
   "cell_type": "code",
   "execution_count": 203,
   "metadata": {},
   "outputs": [
    {
     "data": {
      "image/png": "[encoded data removed]",
      "text/plain": [
       "<Figure size 432x288 with 1 Axes>"
      ]
     },
     "metadata": {
      "needs_background": "light"
     },
     "output_type": "display_data"
    }
   ],
   "source": [
    "ev, v = fa.get_eigenvalues()  #  eigen values\n",
    "plt.scatter(range(1,df_fa.shape[1]+1),ev)\n",
    "plt.plot(range(1,df_fa.shape[1]+1),ev)\n",
    "plt.title('Scree Plot')\n",
    "plt.xlabel('Factors')\n",
    "plt.ylabel('Eigenvalue')\n",
    "plt.grid()\n",
    "plt.show()"
   ]
  },
  {
   "cell_type": "code",
   "execution_count": 204,
   "metadata": {
    "scrolled": false
   },
   "outputs": [
    {
     "data": {
      "text/plain": [
       "<matplotlib.axes._subplots.AxesSubplot at 0x299a58ca518>"
      ]
     },
     "execution_count": 204,
     "metadata": {},
     "output_type": "execute_result"
    },
    {
     "data": {
      "image/png": "[encoded data removed]",
      "text/plain": [
       "<Figure size 432x432 with 2 Axes>"
      ]
     },
     "metadata": {
      "needs_background": "light"
     },
     "output_type": "display_data"
    }
   ],
   "source": [
    "factor_loads = pd.DataFrame(np.matrix(fa.loadings_),index=df_fa.columns) # Factor Loadings Matrix\n",
    "plt.figure(figsize=(6,6))\n",
    "sns.heatmap(factor_loads, xticklabels= True, yticklabels= True,cmap=\"bwr\")  \n",
    "# factor0: positive adj factor, 0: positive review factor, 1: neg fac, 2: polarity pos-neg, 3: Michelin specific, 4: services, \n",
    "# 5: nonMi specific, 6: reviews, 7: reservation\n",
    " "
   ]
  },
  {
   "cell_type": "code",
   "execution_count": 205,
   "metadata": {
    "scrolled": true
   },
   "outputs": [],
   "source": [
    "df_newfa = pd.DataFrame(np.matrix(fa.transform(df_fa.fillna(0))))  # Get the factor scores for new data set\n",
    "\n",
    "y = df['is_Michelin']\n",
    "X = sm.add_constant(df_newfa)\n",
    "model = sm.OLS(y, X).fit()\n",
    "\n",
    "model.summary()\n",
    "\n",
    "tvalues = model.tvalues[1:]#/sum(model.tvalues[1:])\n",
    "# tvalues = model.params[1:]/sum(model.params[1:])\n",
    "\n",
    "def sort_factors(series, t):\n",
    "    if t > 0: # positive\n",
    "        return np.argsort(np.argsort(-series))/sum(np.argsort(-series))\n",
    "    else: return np.argsort(np.argsort(series))/sum(np.argsort(-series))\n",
    "\n",
    "for i in range(fac_num):\n",
    "    df_newfa['factor'+str(i)+'order']= sort_factors(df_newfa.iloc[:,i], tvalues[i])\n",
    "    \n",
    "df_newfa['total_order'] = df_newfa.iloc[:,-fac_num:].apply(lambda row: np.dot(row,tvalues),axis=1)\n",
    "\n",
    "df['FactorAnaScore']=df_newfa['total_order']"
   ]
  },
  {
   "cell_type": "code",
   "execution_count": 206,
   "metadata": {},
   "outputs": [
    {
     "data": {
      "text/html": [
       "<table class=\"simpletable\">\n",
       "<caption>OLS Regression Results</caption>\n",
       "<tr>\n",
       "  <th>Dep. Variable:</th>       <td>is_Michelin</td>   <th>  R-squared:         </th> <td>   0.460</td>\n",
       "</tr>\n",
       "<tr>\n",
       "  <th>Model:</th>                   <td>OLS</td>       <th>  Adj. R-squared:    </th> <td>   0.459</td>\n",
       "</tr>\n",
       "<tr>\n",
       "  <th>Method:</th>             <td>Least Squares</td>  <th>  F-statistic:       </th> <td>   405.2</td>\n",
       "</tr>\n",
       "<tr>\n",
       "  <th>Date:</th>             <td>Wed, 01 May 2019</td> <th>  Prob (F-statistic):</th>  <td>  0.00</td> \n",
       "</tr>\n",
       "<tr>\n",
       "  <th>Time:</th>                 <td>21:14:54</td>     <th>  Log-Likelihood:    </th> <td>  1467.1</td>\n",
       "</tr>\n",
       "<tr>\n",
       "  <th>No. Observations:</th>      <td>  3809</td>      <th>  AIC:               </th> <td>  -2916.</td>\n",
       "</tr>\n",
       "<tr>\n",
       "  <th>Df Residuals:</th>          <td>  3800</td>      <th>  BIC:               </th> <td>  -2860.</td>\n",
       "</tr>\n",
       "<tr>\n",
       "  <th>Df Model:</th>              <td>     8</td>      <th>                     </th>     <td> </td>   \n",
       "</tr>\n",
       "<tr>\n",
       "  <th>Covariance Type:</th>      <td>nonrobust</td>    <th>                     </th>     <td> </td>   \n",
       "</tr>\n",
       "</table>\n",
       "<table class=\"simpletable\">\n",
       "<tr>\n",
       "    <td></td>       <th>coef</th>     <th>std err</th>      <th>t</th>      <th>P>|t|</th>  <th>[0.025</th>    <th>0.975]</th>  \n",
       "</tr>\n",
       "<tr>\n",
       "  <th>const</th> <td>    0.0530</td> <td>    0.003</td> <td>   19.859</td> <td> 0.000</td> <td>    0.048</td> <td>    0.058</td>\n",
       "</tr>\n",
       "<tr>\n",
       "  <th>0</th>     <td>    0.0035</td> <td>    0.003</td> <td>    1.308</td> <td> 0.191</td> <td>   -0.002</td> <td>    0.009</td>\n",
       "</tr>\n",
       "<tr>\n",
       "  <th>1</th>     <td>   -0.0270</td> <td>    0.003</td> <td>  -10.108</td> <td> 0.000</td> <td>   -0.032</td> <td>   -0.022</td>\n",
       "</tr>\n",
       "<tr>\n",
       "  <th>2</th>     <td>   -0.0012</td> <td>    0.003</td> <td>   -0.436</td> <td> 0.663</td> <td>   -0.006</td> <td>    0.004</td>\n",
       "</tr>\n",
       "<tr>\n",
       "  <th>3</th>     <td>    0.0070</td> <td>    0.003</td> <td>    2.618</td> <td> 0.009</td> <td>    0.002</td> <td>    0.012</td>\n",
       "</tr>\n",
       "<tr>\n",
       "  <th>4</th>     <td>    0.0313</td> <td>    0.003</td> <td>   11.717</td> <td> 0.000</td> <td>    0.026</td> <td>    0.037</td>\n",
       "</tr>\n",
       "<tr>\n",
       "  <th>5</th>     <td>    0.1458</td> <td>    0.003</td> <td>   54.580</td> <td> 0.000</td> <td>    0.141</td> <td>    0.151</td>\n",
       "</tr>\n",
       "<tr>\n",
       "  <th>6</th>     <td>    0.0080</td> <td>    0.003</td> <td>    2.984</td> <td> 0.003</td> <td>    0.003</td> <td>    0.013</td>\n",
       "</tr>\n",
       "<tr>\n",
       "  <th>7</th>     <td>   -0.0065</td> <td>    0.003</td> <td>   -2.420</td> <td> 0.016</td> <td>   -0.012</td> <td>   -0.001</td>\n",
       "</tr>\n",
       "</table>\n",
       "<table class=\"simpletable\">\n",
       "<tr>\n",
       "  <th>Omnibus:</th>       <td>2235.753</td> <th>  Durbin-Watson:     </th> <td>   1.240</td> \n",
       "</tr>\n",
       "<tr>\n",
       "  <th>Prob(Omnibus):</th>  <td> 0.000</td>  <th>  Jarque-Bera (JB):  </th> <td>63143.628</td>\n",
       "</tr>\n",
       "<tr>\n",
       "  <th>Skew:</th>           <td> 2.279</td>  <th>  Prob(JB):          </th> <td>    0.00</td> \n",
       "</tr>\n",
       "<tr>\n",
       "  <th>Kurtosis:</th>       <td>22.419</td>  <th>  Cond. No.          </th> <td>    1.00</td> \n",
       "</tr>\n",
       "</table><br/><br/>Warnings:<br/>[1] Standard Errors assume that the covariance matrix of the errors is correctly specified."
      ],
      "text/plain": [
       "<class 'statsmodels.iolib.summary.Summary'>\n",
       "\"\"\"\n",
       "                            OLS Regression Results                            \n",
       "==============================================================================\n",
       "Dep. Variable:            is_Michelin   R-squared:                       0.460\n",
       "Model:                            OLS   Adj. R-squared:                  0.459\n",
       "Method:                 Least Squares   F-statistic:                     405.2\n",
       "Date:                Wed, 01 May 2019   Prob (F-statistic):               0.00\n",
       "Time:                        21:14:54   Log-Likelihood:                 1467.1\n",
       "No. Observations:                3809   AIC:                            -2916.\n",
       "Df Residuals:                    3800   BIC:                            -2860.\n",
       "Df Model:                           8                                         \n",
       "Covariance Type:            nonrobust                                         \n",
       "==============================================================================\n",
       "                 coef    std err          t      P>|t|      [0.025      0.975]\n",
       "------------------------------------------------------------------------------\n",
       "const          0.0530      0.003     19.859      0.000       0.048       0.058\n",
       "0              0.0035      0.003      1.308      0.191      -0.002       0.009\n",
       "1             -0.0270      0.003    -10.108      0.000      -0.032      -0.022\n",
       "2             -0.0012      0.003     -0.436      0.663      -0.006       0.004\n",
       "3              0.0070      0.003      2.618      0.009       0.002       0.012\n",
       "4              0.0313      0.003     11.717      0.000       0.026       0.037\n",
       "5              0.1458      0.003     54.580      0.000       0.141       0.151\n",
       "6              0.0080      0.003      2.984      0.003       0.003       0.013\n",
       "7             -0.0065      0.003     -2.420      0.016      -0.012      -0.001\n",
       "==============================================================================\n",
       "Omnibus:                     2235.753   Durbin-Watson:                   1.240\n",
       "Prob(Omnibus):                  0.000   Jarque-Bera (JB):            63143.628\n",
       "Skew:                           2.279   Prob(JB):                         0.00\n",
       "Kurtosis:                      22.419   Cond. No.                         1.00\n",
       "==============================================================================\n",
       "\n",
       "Warnings:\n",
       "[1] Standard Errors assume that the covariance matrix of the errors is correctly specified.\n",
       "\"\"\""
      ]
     },
     "execution_count": 206,
     "metadata": {},
     "output_type": "execute_result"
    }
   ],
   "source": [
    "model.summary()"
   ]
  },
  {
   "cell_type": "code",
   "execution_count": 207,
   "metadata": {},
   "outputs": [],
   "source": [
    "def get_potentials(df,top=10):\n",
    "    potent=[]\n",
    "    for i in df.index:\n",
    "        potent.append([df['FactorAnaScore'][i],df['name'][i]])\n",
    "    potential_list = sorted(potent)[:top]\n",
    "    return potential_list\n",
    "\n",
    "pre_list = get_potentials(df,top=202)\n",
    "wall = pre_list[-1][0]\n",
    "\n",
    "df['reco'] = np.where(df['FactorAnaScore']<wall,1,0)"
   ]
  },
  {
   "cell_type": "code",
   "execution_count": 208,
   "metadata": {},
   "outputs": [
    {
     "name": "stdout",
     "output_type": "stream",
     "text": [
      "Precision:\t\t\t0.31 identified as Michelin are Michelin\n",
      "Recall/TPR:\t\t\t0.31 proportion of Michelin identified\n",
      "False Positive Rate:\t\t0.04 proportion of Non-Michelin identified as Michelin\n",
      "f-score:\t\t\t0.31 tradeoff between precision and recall\n",
      "Accuracy:\t\t\t0.93 how well the model has classified\n"
     ]
    },
    {
     "data": {
      "image/png": "[encoded data removed]",
      "text/plain": [
       "<Figure size 432x288 with 2 Axes>"
      ]
     },
     "metadata": {
      "needs_background": "light"
     },
     "output_type": "display_data"
    }
   ],
   "source": [
    "from sklearn.metrics import confusion_matrix\n",
    "from sklearn import metrics\n",
    "fa_cm = metrics.confusion_matrix(df['is_Michelin'], df['reco'])\n",
    "sns.heatmap(fa_cm, annot=True, cmap = \"BuPu\", fmt='.2f',xticklabels = [\"Non-Michelin\", \"Michelin\"] , yticklabels = [\"Non-Michelin\", \"Michelin\"] )\n",
    "import matplotlib.pyplot as plt\n",
    "plt.ylabel('True class')\n",
    "plt.xlabel('Predicted class')\n",
    "plt.title('Factor Analysis')\n",
    "plt.savefig('factor_ana_cm')\n",
    "\n",
    "def c_m_analysis(y_test,logreg_y_pred,fa_cm):\n",
    "    tn, fp, fn, tp = fa_cm.ravel()\n",
    "    tpr = tp/(tp+fn)\n",
    "    precision = tp/(tp+fp)\n",
    "    recall = tp/(tp+fn)\n",
    "    fpr = fp/(fp+tn)\n",
    "    f_score = 2*precision*tpr/(precision+tpr)\n",
    "    accuracy = (tp+tn)/(tp+tn+fp+fn)\n",
    "    print(\"Precision:\\t\\t\\t%1.2f identified as Michelin are Michelin\"%(precision))\n",
    "    print(\"Recall/TPR:\\t\\t\\t%1.2f proportion of Michelin identified\"%(recall))\n",
    "    print(\"False Positive Rate:\\t\\t%1.2f proportion of Non-Michelin identified as Michelin\"%fpr)\n",
    "    print(\"f-score:\\t\\t\\t%1.2f tradeoff between precision and recall\"%(f_score))\n",
    "    print(\"Accuracy:\\t\\t\\t%1.2f how well the model has classified\"%(accuracy))\n",
    "\n",
    "c_m_analysis(df['is_Michelin'],df['reco'],fa_cm)"
   ]
  },
  {
   "cell_type": "code",
   "execution_count": null,
   "metadata": {},
   "outputs": [],
   "source": []
  },
  {
   "cell_type": "code",
   "execution_count": null,
   "metadata": {},
   "outputs": [],
   "source": []
  },
  {
   "cell_type": "code",
   "execution_count": null,
   "metadata": {},
   "outputs": [],
   "source": []
  },
  {
   "cell_type": "code",
   "execution_count": null,
   "metadata": {},
   "outputs": [],
   "source": []
  },
  {
   "cell_type": "code",
   "execution_count": 43,
   "metadata": {},
   "outputs": [
    {
     "data": {
      "text/html": [
       "<div>\n",
       "<style scoped>\n",
       "    .dataframe tbody tr th:only-of-type {\n",
       "        vertical-align: middle;\n",
       "    }\n",
       "\n",
       "    .dataframe tbody tr th {\n",
       "        vertical-align: top;\n",
       "    }\n",
       "\n",
       "    .dataframe thead th {\n",
       "        text-align: right;\n",
       "    }\n",
       "</style>\n",
       "<table border=\"1\" class=\"dataframe\">\n",
       "  <thead>\n",
       "    <tr style=\"text-align: right;\">\n",
       "      <th></th>\n",
       "      <th>0</th>\n",
       "      <th>1</th>\n",
       "    </tr>\n",
       "  </thead>\n",
       "  <tbody>\n",
       "    <tr>\n",
       "      <th>0</th>\n",
       "      <td>-0.002845</td>\n",
       "      <td>Krispy Krunchy Chicken</td>\n",
       "    </tr>\n",
       "    <tr>\n",
       "      <th>1</th>\n",
       "      <td>-0.002161</td>\n",
       "      <td>Little Gem Belgian Waffles</td>\n",
       "    </tr>\n",
       "    <tr>\n",
       "      <th>2</th>\n",
       "      <td>-0.002035</td>\n",
       "      <td>Lola's Chicken Shack</td>\n",
       "    </tr>\n",
       "    <tr>\n",
       "      <th>3</th>\n",
       "      <td>-0.002016</td>\n",
       "      <td>AZIT</td>\n",
       "    </tr>\n",
       "    <tr>\n",
       "      <th>4</th>\n",
       "      <td>-0.001998</td>\n",
       "      <td>Spices 3</td>\n",
       "    </tr>\n",
       "    <tr>\n",
       "      <th>5</th>\n",
       "      <td>-0.001742</td>\n",
       "      <td>Chez Panisse</td>\n",
       "    </tr>\n",
       "    <tr>\n",
       "      <th>6</th>\n",
       "      <td>-0.001739</td>\n",
       "      <td>Sweet Fingers</td>\n",
       "    </tr>\n",
       "    <tr>\n",
       "      <th>7</th>\n",
       "      <td>-0.001288</td>\n",
       "      <td>Siam Bay Authentic Thai Cuisine</td>\n",
       "    </tr>\n",
       "    <tr>\n",
       "      <th>8</th>\n",
       "      <td>-0.001058</td>\n",
       "      <td>Roll &amp; Bowl</td>\n",
       "    </tr>\n",
       "    <tr>\n",
       "      <th>9</th>\n",
       "      <td>-0.000967</td>\n",
       "      <td>Juanita &amp; Maude</td>\n",
       "    </tr>\n",
       "    <tr>\n",
       "      <th>10</th>\n",
       "      <td>-0.000922</td>\n",
       "      <td>The Vulcan Cafe</td>\n",
       "    </tr>\n",
       "    <tr>\n",
       "      <th>11</th>\n",
       "      <td>-0.000863</td>\n",
       "      <td>Ivy Moon Restaurant</td>\n",
       "    </tr>\n",
       "    <tr>\n",
       "      <th>12</th>\n",
       "      <td>-0.000768</td>\n",
       "      <td>Utzutzu</td>\n",
       "    </tr>\n",
       "    <tr>\n",
       "      <th>13</th>\n",
       "      <td>-0.000757</td>\n",
       "      <td>Aburaya Japanese Fried Chicken</td>\n",
       "    </tr>\n",
       "    <tr>\n",
       "      <th>14</th>\n",
       "      <td>-0.000747</td>\n",
       "      <td>Cafe 64</td>\n",
       "    </tr>\n",
       "    <tr>\n",
       "      <th>15</th>\n",
       "      <td>-0.000687</td>\n",
       "      <td>Ajanta</td>\n",
       "    </tr>\n",
       "    <tr>\n",
       "      <th>16</th>\n",
       "      <td>-0.000650</td>\n",
       "      <td>La Perla</td>\n",
       "    </tr>\n",
       "    <tr>\n",
       "      <th>17</th>\n",
       "      <td>-0.000441</td>\n",
       "      <td>Eli's Mile High Club</td>\n",
       "    </tr>\n",
       "    <tr>\n",
       "      <th>18</th>\n",
       "      <td>-0.000411</td>\n",
       "      <td>Bonchon San Leandro</td>\n",
       "    </tr>\n",
       "    <tr>\n",
       "      <th>19</th>\n",
       "      <td>-0.000410</td>\n",
       "      <td>Teni East Kitchen</td>\n",
       "    </tr>\n",
       "  </tbody>\n",
       "</table>\n",
       "</div>"
      ],
      "text/plain": [
       "           0                                1\n",
       "0  -0.002845           Krispy Krunchy Chicken\n",
       "1  -0.002161       Little Gem Belgian Waffles\n",
       "2  -0.002035             Lola's Chicken Shack\n",
       "3  -0.002016                             AZIT\n",
       "4  -0.001998                         Spices 3\n",
       "5  -0.001742                     Chez Panisse\n",
       "6  -0.001739                    Sweet Fingers\n",
       "7  -0.001288  Siam Bay Authentic Thai Cuisine\n",
       "8  -0.001058                      Roll & Bowl\n",
       "9  -0.000967                  Juanita & Maude\n",
       "10 -0.000922                  The Vulcan Cafe\n",
       "11 -0.000863              Ivy Moon Restaurant\n",
       "12 -0.000768                          Utzutzu\n",
       "13 -0.000757   Aburaya Japanese Fried Chicken\n",
       "14 -0.000747                          Cafe 64\n",
       "15 -0.000687                           Ajanta\n",
       "16 -0.000650                         La Perla\n",
       "17 -0.000441             Eli's Mile High Club\n",
       "18 -0.000411              Bonchon San Leandro\n",
       "19 -0.000410                Teni East Kitchen"
      ]
     },
     "execution_count": 43,
     "metadata": {},
     "output_type": "execute_result"
    }
   ],
   "source": [
    "pd.DataFrame(pre_sf)"
   ]
  },
  {
   "cell_type": "code",
   "execution_count": 269,
   "metadata": {
    "scrolled": true
   },
   "outputs": [
    {
     "data": {
      "image/png": "[encoded data removed]",
      "text/plain": [
       "<Figure size 576x360 with 1 Axes>"
      ]
     },
     "metadata": {
      "needs_background": "light"
     },
     "output_type": "display_data"
    }
   ],
   "source": [
    "y = df['is_Michelin']\n",
    "x = df_pca\n",
    "\n",
    "pca=PCA(n_components=5)\n",
    "reduced_x=pca.fit_transform(x)\n",
    "\n",
    "mi_x,mi_y = [],[]\n",
    "nonmi_x,nonmi_y = [],[]\n",
    "for i in range(len(reduced_x)):\n",
    "    if y[i] ==1:\n",
    "        mi_x.append(reduced_x[i][0])\n",
    "        mi_y.append(reduced_x[i][1])\n",
    "    else:\n",
    "        nonmi_x.append(reduced_x[i][0])\n",
    "        nonmi_y.append(reduced_x[i][1])\n",
    "\n",
    "plt.figure(figsize=(8,5))\n",
    "plt.scatter(mi_x,mi_y,c='r',marker='.',s=50,zorder=2)\n",
    "plt.scatter(nonmi_x,nonmi_y,c='g',marker='^')\n",
    "# plt.ylim(-10,10) # plt.xlim(-10,10)\n",
    "plt.show()"
   ]
  },
  {
   "cell_type": "markdown",
   "metadata": {},
   "source": [
    "#### The result didn't show significant distinction between the two kinds of restaurants, so we didn't go deeper into this method."
   ]
  },
  {
   "cell_type": "code",
   "execution_count": 199,
   "metadata": {},
   "outputs": [
    {
     "name": "stdout",
     "output_type": "stream",
     "text": [
      "Precision:\t\t\t0.7443 identified as Michelin are Michelin\n",
      "Recall/TPR:\t\t\t0.7441 proportion of Michelin identified\n",
      "False Positive Rate:\t\t0.2556 proportion of Non-Michelin identified as Michelin\n",
      "f-score:\t\t\t0.7442 tradeoff between precision and recall\n",
      "Accuracy:\t\t\t0.7442 how well the model has classified\n"
     ]
    },
    {
     "data": {
      "image/png": "[encoded data removed]",
      "text/plain": [
       "<Figure size 432x288 with 2 Axes>"
      ]
     },
     "metadata": {
      "needs_background": "light"
     },
     "output_type": "display_data"
    }
   ],
   "source": [
    "from sklearn.metrics import confusion_matrix\n",
    "from sklearn import metrics\n",
    "fa_smote_cm = metrics.confusion_matrix(y_resampled, pre_list)\n",
    "sns.heatmap(fa_smote_cm, annot=True, cmap = \"BuPu\", fmt='.2f',xticklabels = [\"Non-Michelin\", \"Michelin\"] , yticklabels = [\"Non-Michelin\", \"Michelin\"] )\n",
    "import matplotlib.pyplot as plt\n",
    "plt.ylabel('True class')\n",
    "plt.xlabel('Predicted class')\n",
    "plt.title('Factor Analysis')\n",
    "plt.savefig('factor_ana_cm')\n",
    "\n",
    "def c_m_analysis(y_test,logreg_y_pred,fa_cm):\n",
    "    tn, fp, fn, tp = fa_cm.ravel()\n",
    "    tpr = tp/(tp+fn)\n",
    "    precision = tp/(tp+fp)\n",
    "    recall = tp/(tp+fn)\n",
    "    fpr = fp/(fp+tn)\n",
    "    f_score = 2*precision*tpr/(precision+tpr)\n",
    "    accuracy = (tp+tn)/(tp+tn+fp+fn)\n",
    "    print(\"Precision:\\t\\t\\t%1.4f identified as Michelin are Michelin\"%(precision))\n",
    "    print(\"Recall/TPR:\\t\\t\\t%1.4f proportion of Michelin identified\"%(recall))\n",
    "    print(\"False Positive Rate:\\t\\t%1.4f proportion of Non-Michelin identified as Michelin\"%fpr)\n",
    "    print(\"f-score:\\t\\t\\t%1.4f tradeoff between precision and recall\"%(f_score))\n",
    "    print(\"Accuracy:\\t\\t\\t%1.4f how well the model has classified\"%(accuracy))\n",
    "\n",
    "c_m_analysis(y_resampled, pre_list,fa_smote_cm)"
   ]
  },
  {
   "cell_type": "code",
   "execution_count": null,
   "metadata": {},
   "outputs": [],
   "source": []
  }
 ],
 "metadata": {
  "kernelspec": {
   "display_name": "Python 3",
   "language": "python",
   "name": "python3"
  },
  "language_info": {
   "codemirror_mode": {
    "name": "ipython",
    "version": 3
   },
   "file_extension": ".py",
   "mimetype": "text/x-python",
   "name": "python",
   "nbconvert_exporter": "python",
   "pygments_lexer": "ipython3",
   "version": "3.7.1"
  }
 },
 "nbformat": 4,
 "nbformat_minor": 2
}
